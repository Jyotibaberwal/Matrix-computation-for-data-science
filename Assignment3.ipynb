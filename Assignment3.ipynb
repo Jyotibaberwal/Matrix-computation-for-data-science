{
  "nbformat": 4,
  "nbformat_minor": 0,
  "metadata": {
    "colab": {
      "provenance": [],
      "toc_visible": true,
      "authorship_tag": "ABX9TyNfw8VU9WiwyiHwaqMTSJY9",
      "include_colab_link": true
    },
    "kernelspec": {
      "name": "python3",
      "display_name": "Python 3"
    },
    "language_info": {
      "name": "python"
    }
  },
  "cells": [
    {
      "cell_type": "markdown",
      "metadata": {
        "id": "view-in-github",
        "colab_type": "text"
      },
      "source": [
        "<a href=\"https://colab.research.google.com/github/Jyotibaberwal/Matrix-computation-for-data-science/blob/main/Assignment3.ipynb\" target=\"_parent\"><img src=\"https://colab.research.google.com/assets/colab-badge.svg\" alt=\"Open In Colab\"/></a>"
      ]
    },
    {
      "cell_type": "code",
      "execution_count": null,
      "metadata": {
        "id": "SSvQllJYBrPl"
      },
      "outputs": [],
      "source": []
    },
    {
      "cell_type": "markdown",
      "source": [
        "# Question 1\n",
        "**Write a function to implement the Power method for any given square matrix of\n",
        "arbitrary size. Using the function, find the dominant eigenvalue and\n",
        "corresponding eigenvector for the following matrices**\n",
        "\n",
        "**a. [[8,-6,2],[-6,7,-4],[2,-4,3]]**\n",
        "\n",
        "**b. A randomly generated symmetric matrix of size nxn**\n",
        "\n",
        "**Take the initial vector as [1,1,...,1]T and terminate the iteration if the\n",
        "consecutive iteration values are very close or after maximum iterations.**\n",
        "\n",
        "**Reference Reading -** https://ergodic.ugr.es/cphys/lecciones/fortran/power_method.pdf"
      ],
      "metadata": {
        "id": "QNqugoWtBvam"
      }
    },
    {
      "cell_type": "code",
      "source": [
        "import numpy as np\n",
        "\n",
        "# Randomly genrate symmentric matrix\n",
        "def random_matrix(n):\n",
        "  mat = np.random.rand(n,n)\n",
        "  symmetric_mat = (mat+mat.T)/2\n",
        "  return symmetric_mat\n",
        "\n",
        "# Power iteration method with scaling\n",
        "def X(m, A):\n",
        "    n = len(A)\n",
        "    x = np.ones(n)\n",
        "    max_val = None\n",
        "\n",
        "    for _ in range(m):\n",
        "        x = np.dot(A, x)\n",
        "        max_val = np.max(x)\n",
        "        x /= max_val\n",
        "\n",
        "    return x, max_val\n",
        "\n",
        "\n",
        "A = np.array([[8, -6, 2],\n",
        "              [-6, 7, -4],\n",
        "              [2, -4, 3]])\n",
        "\n",
        "for i in range(10):\n",
        "    X_vector, max_val = X(i, A)\n",
        "    print(\"iteration\",i)\n",
        "    print(\"eigen_vecotr\", X_vector)\n",
        "    print(\"eigen_value\", max_val)\n",
        "    print(\"\\n\")\n",
        "\n",
        "print(\"\\n\\n\\n\")\n",
        "print(\"For symmetric matrix\\n\")\n",
        "for i in range(10):\n",
        "\n",
        "    X_vector, max_val = X(i, random_matrix(3))\n",
        "    print(\"iteration\",i)\n",
        "    print(\"eigen_vecotr\", X_vector)\n",
        "    print(\"eigen_value\", max_val)\n",
        "    print()\n",
        "\n"
      ],
      "metadata": {
        "id": "SfrHnw-nCkni"
      },
      "execution_count": null,
      "outputs": []
    },
    {
      "cell_type": "markdown",
      "source": [
        "# Question 2"
      ],
      "metadata": {
        "id": "5-LZy8nHi8WY"
      }
    },
    {
      "cell_type": "code",
      "source": [
        "print(\"\\n\\n\\n\")\n",
        "print(\"For symmetric matrix\\n\")\n",
        "def X(m, A):\n",
        "    n = len(A)\n",
        "    x = np.array([0.25,0.25,0.25,0.25])\n",
        "\n",
        "    for _ in range(m):\n",
        "        x = np.dot(A, x)\n",
        "    return x\n",
        "\n",
        "\n",
        "A = np.array([[0,0,1,1/2],\n",
        "              [1/3,0,0,0],\n",
        "              [1/3,1/2,0,1/2],\n",
        "              [1/3,1/2,0,0]])\n",
        "for i in range(10):\n",
        "\n",
        "    X_vector = X(i,A)\n",
        "    print(\"iteration\",i)\n",
        "    print(\"eigen_vecotr\", X_vector)\n",
        "\n"
      ],
      "metadata": {
        "colab": {
          "base_uri": "https://localhost:8080/"
        },
        "id": "Uw35nix9p5FS",
        "outputId": "542aec6d-0f21-43ea-b10c-485ac41fe9d0"
      },
      "execution_count": 28,
      "outputs": [
        {
          "output_type": "stream",
          "name": "stdout",
          "text": [
            "\n",
            "\n",
            "\n",
            "\n",
            "For symmetric matrix\n",
            "\n",
            "iteration 0\n",
            "eigen_vecotr [0.25 0.25 0.25 0.25]\n",
            "iteration 1\n",
            "eigen_vecotr [0.375      0.08333333 0.33333333 0.20833333]\n",
            "iteration 2\n",
            "eigen_vecotr [0.4375     0.125      0.27083333 0.16666667]\n",
            "iteration 3\n",
            "eigen_vecotr [0.35416667 0.14583333 0.29166667 0.20833333]\n",
            "iteration 4\n",
            "eigen_vecotr [0.39583333 0.11805556 0.29513889 0.19097222]\n",
            "iteration 5\n",
            "eigen_vecotr [0.390625   0.13194444 0.28645833 0.19097222]\n",
            "iteration 6\n",
            "eigen_vecotr [0.38194444 0.13020833 0.29166667 0.19618056]\n",
            "iteration 7\n",
            "eigen_vecotr [0.38975694 0.12731481 0.29050926 0.19241898]\n",
            "iteration 8\n",
            "eigen_vecotr [0.38671875 0.12991898 0.28978588 0.19357639]\n",
            "iteration 9\n",
            "eigen_vecotr [0.38657407 0.12890625 0.29065394 0.19386574]\n"
          ]
        }
      ]
    },
    {
      "cell_type": "code",
      "source": [],
      "metadata": {
        "id": "i7iQVKVDsLfQ"
      },
      "execution_count": null,
      "outputs": []
    }
  ]
}