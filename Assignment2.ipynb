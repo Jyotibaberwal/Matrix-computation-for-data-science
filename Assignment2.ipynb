{
  "nbformat": 4,
  "nbformat_minor": 0,
  "metadata": {
    "colab": {
      "provenance": [],
      "toc_visible": true,
      "authorship_tag": "ABX9TyM7aOHd7klwh9YKRICtwU54",
      "include_colab_link": true
    },
    "kernelspec": {
      "name": "python3",
      "display_name": "Python 3"
    },
    "language_info": {
      "name": "python"
    }
  },
  "cells": [
    {
      "cell_type": "markdown",
      "metadata": {
        "id": "view-in-github",
        "colab_type": "text"
      },
      "source": [
        "<a href=\"https://colab.research.google.com/github/Jyotibaberwal/Matrix-computation-for-data-science/blob/main/Assignment2.ipynb\" target=\"_parent\"><img src=\"https://colab.research.google.com/assets/colab-badge.svg\" alt=\"Open In Colab\"/></a>"
      ]
    },
    {
      "cell_type": "code",
      "source": [],
      "metadata": {
        "id": "2gLv1kGkXQez"
      },
      "execution_count": null,
      "outputs": []
    },
    {
      "cell_type": "markdown",
      "source": [
        "# Question 3\n",
        "Write a function to determine whether the given transformations are\n",
        "linear or not.\n",
        "\n",
        "a. A 2 × 2 matrix corresponding to some transformation:\n",
        "T = [[2,1],\n",
        "      [3,4]]\n",
        "\n",
        "b. T(x, y) = (sin(x + y), sin(x − y))\n",
        "\n",
        "c. T(x, y) = (xy, y)\n",
        "\n",
        "d. T(x, y) = (3x − y, y, x), where x, y ∈ R."
      ],
      "metadata": {
        "id": "2m7qSKYVXRAb"
      }
    },
    {
      "cell_type": "code",
      "source": [],
      "metadata": {
        "id": "qZfsoOxZX0OM"
      },
      "execution_count": null,
      "outputs": []
    },
    {
      "cell_type": "markdown",
      "source": [
        "\n",
        "\n",
        "\n",
        "# Question 4\n",
        "\n",
        "The mathematical constant π can be approximated using the Leibniz\n",
        "formula as:\n",
        "\n",
        "``` π/4 = 1 - 1/3 + 1/5 - 1/7 + 1/9 + ...(up to N terms) ```\n",
        "\n",
        "a. Implement the Leibniz formula to calculate the approximation of\n",
        "π using the first N terms.\n",
        "\n",
        "b. Calculate the absolute error between the computed\n",
        "approximation and the known value of π (imported from the\n",
        "math module).\n",
        "\n",
        "c. Discuss with the help of a plot how the absolute error evolves\n",
        "with the increase in value of N."
      ],
      "metadata": {
        "id": "oXhxVcJFPFRn"
      }
    },
    {
      "cell_type": "code",
      "source": [
        "import math\n",
        "import matplotlib.pyplot as plt\n",
        "\n",
        "pi = math.pi\n",
        "\n",
        "# pi with the help of leibniz formula\n",
        "def leibniz_pi(N):\n",
        "\n",
        "  sum = 0; #initialize sum\n",
        "  k = 1;  #initialize denominator\n",
        "  for i in range(N):\n",
        "    if(i%2 == 0):\n",
        "      sum += 4/k\n",
        "    else:\n",
        "      sum -= 4/k\n",
        "    k += 2\n",
        "  return sum\n",
        "\n",
        "approx_pi = leibniz_pi(10)\n",
        "print(\"absolute error between the computed approximation and the known value of π : \", pi-approx_pi)\n",
        "\n",
        "def absolute_error(approximate):\n",
        "  return (math.pi - approximate)\n",
        "\n",
        "\n",
        "## plotting graph\n",
        "range_N = range(1,100)\n",
        "abs_error = [absolute_error(leibniz_pi(i)) for i in range_N]\n",
        "\n",
        "plt.figure(figsize=(10,6))\n",
        "plt.plot(range_N,abs_error)\n",
        "plt.title(\"Absolute error in pi\")\n",
        "plt.xlabel(\"N\")\n",
        "plt.ylabel('Absolute error')\n",
        "plt.legend()\n",
        "plt.grid(True)\n",
        "plt.show()"
      ],
      "metadata": {
        "id": "4vqsZSyUQkgs"
      },
      "execution_count": null,
      "outputs": []
    },
    {
      "cell_type": "code",
      "source": [],
      "metadata": {
        "id": "BWp2TDrJSFRH"
      },
      "execution_count": null,
      "outputs": []
    }
  ]
}