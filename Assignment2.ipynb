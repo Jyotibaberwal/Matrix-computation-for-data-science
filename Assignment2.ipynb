{
  "nbformat": 4,
  "nbformat_minor": 0,
  "metadata": {
    "colab": {
      "provenance": [],
      "toc_visible": true,
      "authorship_tag": "ABX9TyMZFEIKyGNf+GTVnIfFWqKS",
      "include_colab_link": true
    },
    "kernelspec": {
      "name": "python3",
      "display_name": "Python 3"
    },
    "language_info": {
      "name": "python"
    }
  },
  "cells": [
    {
      "cell_type": "markdown",
      "metadata": {
        "id": "view-in-github",
        "colab_type": "text"
      },
      "source": [
        "<a href=\"https://colab.research.google.com/github/Jyotibaberwal/Matrix-computation-for-data-science/blob/main/Assignment2.ipynb\" target=\"_parent\"><img src=\"https://colab.research.google.com/assets/colab-badge.svg\" alt=\"Open In Colab\"/></a>"
      ]
    },
    {
      "cell_type": "markdown",
      "source": [
        "# Question 1\n",
        "**1. Write a program that computes the condition number of any given\n",
        "matrix with respect to the following norms:**\n",
        "\n",
        "**• 1-norm**\n",
        "\n",
        "**• Frobenius (Euclidean) norm**\n",
        "\n",
        "**• Infinity norm**\n",
        "\n",
        "**• Spectral norm**\n",
        "\n",
        "**Do not use any built functions such as sum or average of the\n",
        "matrices,however use of inverse function is allowed. Also, find the\n",
        "condition number of the following matrices:**\n",
        "\n"
      ],
      "metadata": {
        "id": "HFGboCSC2UiP"
      }
    },
    {
      "cell_type": "markdown",
      "source": [
        "Reference reading\n",
        "https://www.cse.iitd.ac.in/~dheerajb/CS210_lect07.pdf#:~:text=The%20condition%20number%20of%20the%20matrix%20measures%20the,vector%20norm%29%20under%20the%20transformation%20by%20the%20matrix."
      ],
      "metadata": {
        "id": "7B9kgIA_cTjT"
      }
    },
    {
      "cell_type": "code",
      "source": [
        "import numpy as np\n",
        "\n",
        "def norm_1(A):\n",
        "  # maximum column sum\n",
        "  n = len(A)\n",
        "  max_sum = 0\n",
        "  for j in range(n): #column->constant\n",
        "    col_sum = 0\n",
        "    for i in range(n):\n",
        "      col_sum += abs(A[i][j])\n",
        "    max_sum = max(max_sum,col_sum)\n",
        "  return max_sum\n",
        "\n",
        "def norm_2(A):\n",
        "  # sum of square of all elements\n",
        "  n = len(A)\n",
        "  sum = 0\n",
        "  for i in range(n):\n",
        "    for j in range(n):\n",
        "      sum += A[i][j]**2\n",
        "  return sum**0.5\n",
        "\n",
        "def infinity_norm(A):\n",
        "  # maximum row sum\n",
        "  n = len(A)\n",
        "  max_sum = 0\n",
        "  for i in range(n): # row->constant\n",
        "    row_sum = 0\n",
        "    for j in range(n):\n",
        "      row_sum += abs(A[i][j])\n",
        "    max_sum = max(max_sum,row_sum)\n",
        "  return max_sum\n",
        "\n",
        "\n",
        "def spectral_norm(A):\n",
        "  # ∥A∥ = (λmax(AT.A))^1/2\n",
        "  product_matrix = np.dot(np.transpose(A),A)\n",
        "  n = len(product_matrix)\n",
        "  eigen_values = np.linalg.eigvals(product_matrix)\n",
        "\n",
        "  return max(abs(eigen_values))**0.5\n",
        "\n",
        "\n",
        "def condition_number(A):\n",
        "  k_norm1 = norm_1(A)*norm_1(np.linalg.inv(A))\n",
        "  k_norm2 = norm_2(A)*norm_2(np.linalg.inv(A))\n",
        "  k_norm_infinity = infinity_norm(A)*infinity_norm(np.linalg.inv(A))\n",
        "  k_norm_spectral = spectral_norm(A)*spectral_norm(np.linalg.inv(A))\n",
        "  return k_norm1,k_norm2,k_norm_infinity,k_norm_spectral\n"
      ],
      "metadata": {
        "id": "A33ezRMr2xI2"
      },
      "execution_count": null,
      "outputs": []
    },
    {
      "cell_type": "markdown",
      "source": [
        "**a. Rotation Matrix**"
      ],
      "metadata": {
        "id": "ENKW0pLKe-G6"
      }
    },
    {
      "cell_type": "code",
      "source": [
        "x = np.pi/4  # 45 degree\n",
        "Rot_mat = np.array([[np.cos(x),-np.sin(x)],[np.sin(x),np.cos(x)]])\n",
        "\n",
        "k_1,k_2,k_infinty,k_spectral = condition_number(Rot_mat)\n",
        "print(\"1-norm:\", k_1)\n",
        "print(\"Euclidean norm:\", k_2)\n",
        "print(\"Infinity norm:\", k_infinty)\n",
        "print(\"Spectral norm:\", k_spectral)\n",
        "\n"
      ],
      "metadata": {
        "id": "9h_QEO_ffJBz"
      },
      "execution_count": null,
      "outputs": []
    },
    {
      "cell_type": "markdown",
      "source": [
        "**b.)**\n",
        "\n",
        "```\n",
        "A = [[1,2,3],[4,5,6],[-15,6,9]]\n",
        "```\n",
        "\n",
        "\n"
      ],
      "metadata": {
        "id": "EEo6c7-fhzvQ"
      }
    },
    {
      "cell_type": "code",
      "source": [
        "A = np.array([[1,2,3],[4,5,6],[-15,6,9]])\n",
        "k_1,k_2,k_infinty,k_spectral = condition_number(A)\n",
        "print(\"1-norm:\", k_1)\n",
        "print(\"Euclidean norm:\", k_2)\n",
        "print(\"Infinity norm:\", k_infinty)\n",
        "print(\"Spectral norm:\", k_spectral)"
      ],
      "metadata": {
        "id": "lMUX0RohjJPT"
      },
      "execution_count": null,
      "outputs": []
    },
    {
      "cell_type": "markdown",
      "source": [
        "**c.)**\n",
        "\n",
        "\n",
        "```\n",
        "A = [[2,1,0 ,0,0],\n",
        "     [3,3,12,0,0],\n",
        "     [0,4,-33,21,0],\n",
        "     [0,0,12,0,23],\n",
        "     [5,0,0,14,67]]\n",
        "```\n",
        "\n"
      ],
      "metadata": {
        "id": "aR9RqaaAjqj7"
      }
    },
    {
      "cell_type": "code",
      "source": [
        "A = np.array([[2,1,0 ,0,0],\n",
        "     [3,3,12,0,0],\n",
        "     [0,4,-33,21,0],\n",
        "     [0,0,12,0,23],\n",
        "     [5,0,0,14,67]])\n",
        "\n",
        "k_1,k_2,k_infinty,k_spectral = condition_number(A)\n",
        "print(\"1-norm:\", k_1)\n",
        "print(\"Euclidean norm:\", k_2)\n",
        "print(\"Infinity norm:\", k_infinty)\n",
        "print(\"Spectral norm:\", k_spectral)"
      ],
      "metadata": {
        "colab": {
          "base_uri": "https://localhost:8080/"
        },
        "id": "CZgiDpDikUsG",
        "outputId": "bd941c5e-4ca0-45dc-fe69-62465443de5f"
      },
      "execution_count": null,
      "outputs": [
        {
          "output_type": "stream",
          "name": "stdout",
          "text": [
            "1-norm: 206.90938275207938\n",
            "Euclidean norm: 150.31042366912672\n",
            "Infinity norm: 237.09295199182836\n",
            "Spectral norm: 126.43946696485582\n"
          ]
        }
      ]
    },
    {
      "cell_type": "markdown",
      "source": [
        "# Question 2\n",
        "**Write a program that takes two user-input numerical values, x and y,\n",
        "and performs three basic mathematical operations:**\n",
        "\n",
        "**• addition**\n",
        "\n",
        "**• multiplication**\n",
        "\n",
        "**• division**\n",
        "\n",
        "**The program should use each of the two data types (float and\n",
        "Decimal) for these calculations. Repeat this experiment several times\n",
        "with very small and large decimal values of x and y, and:**\n",
        "\n",
        "**a. For each operation, display the differences in precision that\n",
        "become apparent in the results.**\n",
        "\n",
        "**b. Comment when it is appropriate to use each data type based\n",
        "on the observed characteristics, considering factors such as\n",
        "scientific calculations, financial applications, and\n",
        "general-purpose programming.**\n",
        "\n",
        "**c. Explain what will be the output of the following code snippet in\n",
        "Python: 0.1 + 0.1 + 0.1 == 0.3**"
      ],
      "metadata": {
        "id": "_fs9gF1enUTD"
      }
    },
    {
      "cell_type": "code",
      "source": [
        "from decimal import Decimal\n",
        "\n",
        "def perform_operations(x, y):\n",
        "    # Addition\n",
        "    float_add = x + y\n",
        "    decimal_add = Decimal(x) + Decimal(y)\n",
        "    print(\"Float Addition:\", float_add)\n",
        "    print(\"Decimal Addition:\", decimal_add)\n",
        "    print(\"Difference: \",Decimal(str(float_add))-(decimal_add))\n",
        "\n",
        "    # Multiplication\n",
        "    float_mul = x * y\n",
        "    decimal_mul = Decimal(x) * Decimal(y)\n",
        "    print()\n",
        "    print(\"Float multiplication :\", float_mul)\n",
        "    print(\"Decimal multiplication:\", decimal_mul)\n",
        "    print(\"Difference : \", Decimal(str(float_mul)) - (decimal_mul))\n",
        "    # Division\n",
        "    float_div = x / y\n",
        "    decimal_div = Decimal(x) / Decimal(y)\n",
        "    print()\n",
        "    print(\"Float Division:\", float_div)\n",
        "    print(\"Decimal Division:\", decimal_div)\n",
        "    print(\"Difference: \",Decimal(str(float_div))  - (decimal_div))\n",
        "\n",
        "x_small = 0.00000001\n",
        "y_small = 0.00000023\n",
        "x_large = 10000000035430000000456\n",
        "y_large = 10000000003450000000780\n",
        "\n",
        "print()\n",
        "print(\"Testing with small values:\")\n",
        "perform_operations(x_small, y_small)\n",
        "\n",
        "\n",
        "print(\"\\n\\n\\nTesting with large values:\")\n",
        "perform_operations(x_large, y_large)\n"
      ],
      "metadata": {
        "id": "KiWsKCmOyH8v"
      },
      "execution_count": null,
      "outputs": []
    },
    {
      "cell_type": "markdown",
      "source": [
        "When there is a very small or very large number is given, the float data type lose its precision because of its limited number of significant digits. on the other hand decimal operations are more precise and best suitable for applications where pricision is crusial such as scientific calculations."
      ],
      "metadata": {
        "id": "hBgUBHbf1hWO"
      }
    },
    {
      "cell_type": "markdown",
      "source": [
        "# Question 3\n",
        "**Write a function to determine whether the given transformations are\n",
        "linear or not.**\n",
        "\n",
        "**a. A 2 × 2 matrix corresponding to some transformation:**\n",
        "T = [[2,1],\n",
        "      [3,4]]\n",
        "\n",
        "**b. T(x, y) = (sin(x + y), sin(x − y))**\n",
        "\n",
        "**c. T(x, y) = (xy, y)**\n",
        "\n",
        "**d. T(x, y) = (3x − y, y, x), where x, y ∈ R.**\n",
        "\n",
        "Reference Reading for Linear Transformation\n",
        "https://bvanderlei.github.io/jupyter-guide-to-linear-algebra/Linear_Transformations.html"
      ],
      "metadata": {
        "id": "2m7qSKYVXRAb"
      }
    },
    {
      "cell_type": "code",
      "source": [
        "import numpy as np\n",
        "\n",
        "# Taking random vectors to check properties\n",
        "u = np.array([-1, 2])\n",
        "v = np.array([3, 5])\n",
        "k = 2\n",
        "\n",
        "def is_linear(T, u, v, k):\n",
        "    # Scalability: T(k*u) = k*T(u)\n",
        "    scalability = np.allclose(T(k * u), k * T(u))\n",
        "\n",
        "    # Additivity: T(v+w) = T(v) + T(w)\n",
        "    additivity = np.allclose(T(u + v), T(u) + T(v))\n",
        "\n",
        "    return scalability and additivity\n",
        "\n",
        "#Transformations\n",
        "def T1(x):\n",
        "    transformation_matrix = np.array([[2, 1], [3, 4]])\n",
        "    return np.dot(transformation_matrix, x)\n",
        "\n",
        "def T2(x):\n",
        "    return np.array([np.sin(x[0] + x[1]), np.sin(x[0] - x[1])])\n",
        "\n",
        "def T3(x):\n",
        "    return np.array([x[0] * x[1], x[1]])\n",
        "\n",
        "def T4(x):\n",
        "    return np.array([3 * x[0] - x[1], x[1], x[0]])\n",
        "\n",
        "# Test linearity of each transformation\n",
        "print( is_linear(T1, u, v, k))\n",
        "print(is_linear(T2,u,v,k))\n",
        "print(is_linear(T3,u,v,k))\n",
        "print(is_linear(T4,u,v,k))\n"
      ],
      "metadata": {
        "colab": {
          "base_uri": "https://localhost:8080/"
        },
        "id": "Yh6m38Uld9ou",
        "outputId": "def3f34f-06a4-4109-a9fc-87198bdf8cf4"
      },
      "execution_count": null,
      "outputs": [
        {
          "output_type": "stream",
          "name": "stdout",
          "text": [
            "True\n",
            "False\n",
            "False\n",
            "True\n"
          ]
        }
      ]
    },
    {
      "cell_type": "markdown",
      "source": [
        "\n",
        "\n",
        "\n",
        "# Question 4\n",
        "\n",
        "**The mathematical constant π can be approximated using the Leibniz\n",
        "formula as:**\n",
        "\n",
        "``` π/4 = 1 - 1/3 + 1/5 - 1/7 + 1/9 + ...(up to N terms) ```\n",
        "\n",
        "**a. Implement the Leibniz formula to calculate the approximation of\n",
        "π using the first N terms.**\n",
        "\n",
        "**b. Calculate the absolute error between the computed\n",
        "approximation and the known value of π (imported from the\n",
        "math module).**\n",
        "\n",
        "**c. Discuss with the help of a plot how the absolute error evolves\n",
        "with the increase in value of N.**"
      ],
      "metadata": {
        "id": "oXhxVcJFPFRn"
      }
    },
    {
      "cell_type": "code",
      "source": [
        "import math\n",
        "import matplotlib.pyplot as plt\n",
        "\n",
        "pi = math.pi\n",
        "\n",
        "# pi with the help of leibniz formula\n",
        "def leibniz_pi(N):\n",
        "\n",
        "  sum = 0; #initialize sum\n",
        "  k = 1;  #initialize denominator\n",
        "  for i in range(N):\n",
        "    if(i%2 == 0):\n",
        "      sum += 4/k\n",
        "    else:\n",
        "      sum -= 4/k\n",
        "    k += 2\n",
        "  return sum\n",
        "\n",
        "approx_pi = leibniz_pi(10)\n",
        "print(\"absolute error between the computed approximation and the known value of π : \", pi-approx_pi)\n",
        "\n",
        "def absolute_error(approximate):\n",
        "  return (math.pi - approximate)\n",
        "\n",
        "\n",
        "## plotting graph\n",
        "range_N = range(1,100)\n",
        "abs_error = [absolute_error(leibniz_pi(i)) for i in range_N]\n",
        "\n",
        "plt.figure(figsize=(10,6))\n",
        "plt.plot(range_N,abs_error)\n",
        "plt.title(\"Absolute error in pi\")\n",
        "plt.xlabel(\"N\")\n",
        "plt.ylabel('Absolute error')\n",
        "plt.legend()\n",
        "plt.grid(True)\n",
        "plt.show()"
      ],
      "metadata": {
        "id": "4vqsZSyUQkgs"
      },
      "execution_count": null,
      "outputs": []
    }
  ]
}